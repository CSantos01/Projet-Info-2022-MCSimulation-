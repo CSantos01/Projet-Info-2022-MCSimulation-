{
 "cells": [
  {
   "cell_type": "markdown",
   "metadata": {},
   "source": [
    "## Librairies"
   ]
  },
  {
   "cell_type": "code",
   "execution_count": 17,
   "metadata": {},
   "outputs": [],
   "source": [
    "import landaupy\n",
    "from landaupy import landau\n",
    "import matplotlib.pyplot as plt\n",
    "import numpy as np\n",
    "from random import gauss"
   ]
  },
  {
   "cell_type": "markdown",
   "metadata": {},
   "source": [
    "## Parameters"
   ]
  },
  {
   "cell_type": "markdown",
   "metadata": {},
   "source": [
    "We will begin by defining the particles and their masses (in GeV/c²)"
   ]
  },
  {
   "cell_type": "code",
   "execution_count": 18,
   "metadata": {},
   "outputs": [],
   "source": [
    "#Electron:\n",
    "m_e=5.11*10**-4\n",
    "\n",
    "#s-quark:\n",
    "m_s=93*10**-3\n",
    "\n",
    "#B⁺-meson:\n",
    "m_B=5279.34*10**-3\n",
    "\n",
    "#Proton:\n",
    "m_p=938.27*10**-3"
   ]
  },
  {
   "cell_type": "markdown",
   "metadata": {},
   "source": [
    "In the following, we work in a $(z,y)$ axis system, as in figure 5.1."
   ]
  },
  {
   "cell_type": "code",
   "execution_count": 19,
   "metadata": {},
   "outputs": [],
   "source": [
    "#Constants:\n",
    "\n",
    "c=3*10**8 #Speed of light in m.s^{-1}\n",
    "\n",
    "#Parameters:\n",
    "\n",
    "q=0.3 #for a particle with a charge 1.6*10**-19 C\n",
    "e=1.6*10**-19 #Elementary charge\n",
    "B=1 #Magnetic field in T\n",
    "L=0.01 #length of the magnetic zone, in m\n",
    "d=0.005 #length of the dectectors\n",
    "\n",
    "\n",
    "d1=0.0125 #distance between the particle gun and the first sensor\n",
    "d2=0.0075 #distance bewteen the second sensor and the magnetic zone\n",
    "d3=0.0075 #distance between the magnetic zone and the third sensor"
   ]
  },
  {
   "cell_type": "markdown",
   "metadata": {},
   "source": [
    "Let's define the system such that the particle come from the right to left, as in the figure."
   ]
  },
  {
   "cell_type": "code",
   "execution_count": 39,
   "metadata": {},
   "outputs": [],
   "source": [
    "#Initial position:\n",
    "\n",
    "z0=0.05\n",
    "y0=0.005\n",
    "\n",
    "#Arbitrary initial momentum in GeV/c:\n",
    "\n",
    "p_z0=-6\n",
    "p_y0=0\n",
    "\n",
    "#Standard deviation:\n",
    "sigma=0.000001"
   ]
  },
  {
   "cell_type": "markdown",
   "metadata": {},
   "source": [
    "For the Pixel Firing Threshold and the Multiple scattering, we need to introduce other constants:"
   ]
  },
  {
   "cell_type": "code",
   "execution_count": 21,
   "metadata": {},
   "outputs": [],
   "source": [
    "j=0.200 #density effect correctged on disk since the last time we opened or saved it. Do you want ion\n",
    "ze=14 #Number of electrons of the detector's atom\n",
    "th=14*10**-6 #detector thickness (in m)\n",
    "rho=2.2 #density of detector (in g/cm3)\n",
    "x=rho*th #ged on disk since the last time we opened or saved it. Do you want detector thickness (in g/cm2)\n",
    "threshold=100 #roughly 100e-\n",
    "ratio_ZA=0.49930\n",
    "Wi=3.6 #minimum energy required to create an electron-hole pair for Si (in eV)"
   ]
  },
  {
   "cell_type": "markdown",
   "metadata": {},
   "source": [
    "Now we implement the Landau distribution:"
   ]
  },
  {
   "cell_type": "code",
   "execution_count": 22,
   "metadata": {},
   "outputs": [],
   "source": [
    "def most_probable_value(Z,m):\n",
    "    #Needed parameters:\n",
    "    v0=np.sqrt((p_z0/m)**2+(p_y0/m)**2)\n",
    "    beta=v0/c\n",
    "    g=np.sqrt(1-beta**2) #inverse Lorentz coefficient\n",
    "    \n",
    "    #Parameters related to the Landau distribution:\n",
    "    ksi=(0.1535*ze**2*rho)*ratio_ZA*(x/(beta**2)) #Parameter of the Landau distribution\n",
    "    w=4.018*ksi #width of Landau distribution\n",
    "    \n",
    "    #Computation of the 'I' parameter:\n",
    "    if Z<13:\n",
    "        I=12+7/Z #average excitation energy\n",
    "    else:\n",
    "        I=9.76+58.8*(Z**(-1.19))\n",
    "        \n",
    "    #Most Probable Value formula:\n",
    "    delta_p=ksi*(np.log((2*m_e*10**9*((beta)/g)**2)/I)+np.log(ksi/I)+j-beta**2) #most probable value\n",
    "    \n",
    "    return(delta_p)"
   ]
  },
  {
   "cell_type": "code",
   "execution_count": 23,
   "metadata": {},
   "outputs": [],
   "source": [
    "Z=14 #In our case, the detector is composed of Silicon only"
   ]
  },
  {
   "cell_type": "markdown",
   "metadata": {},
   "source": [
    "We have to troncate the values obtain from the Landau distribution"
   ]
  },
  {
   "cell_type": "code",
   "execution_count": 24,
   "metadata": {},
   "outputs": [],
   "source": [
    "def energy_deposit(m):\n",
    "    a=landau.sample(x_mpv=most_probable_value(Z,m), xi=w, n_samples=1)#We generate a value for the energy deposited\n",
    "    #x_mpv is the most probable energy of Landau distribution\n",
    "    #xi is the width\n",
    "    \n",
    "    if a<0 or a*10**-9>np.sqrt(p_y0**2+p_z0**2):\n",
    "        return energy_deposit(m)\n",
    "    \n",
    "    else:\n",
    "        return a"
   ]
  },
  {
   "cell_type": "markdown",
   "metadata": {},
   "source": [
    "## Kinematics"
   ]
  },
  {
   "cell_type": "markdown",
   "metadata": {},
   "source": [
    "Now we need to introduce the kinematics of the particle in each of the three zone: before B-field (first zone), inside B-field, after B-field."
   ]
  },
  {
   "cell_type": "code",
   "execution_count": 25,
   "metadata": {},
   "outputs": [],
   "source": [
    "def Kinematic_First_Zone(z,y,pz,py,m):\n",
    "    \"Arguments: (z,y), the position at the entrance of the first zone (position of the particle gun); \"\n",
    "    \"(pz,py) the momenta at the entrance of the first zone; m, the mass of the particle.\"\n",
    "    \"Return: lists of the positions and the velocities of the particle at each instant; 'i' the last used index.\"\n",
    "    \n",
    "    dt=0.0000001 #Time step\n",
    "    \n",
    "    Z,Y,Vz,Vy=[],[],[],[] #Lists of positions and velocities\n",
    "    \n",
    "    #Initial velocities\n",
    "    vz=pz/m\n",
    "    vy=py/m\n",
    "    \n",
    "    #Implementation of the initial conditions:\n",
    "    Z.append(z)\n",
    "    Y.append(y)\n",
    "    Vz.append(vz)\n",
    "    Vy.append(vy)\n",
    "    \n",
    "    i=0\n",
    "    e_dep=0 #energy deposited\n",
    "    \n",
    "    while Z[i]>Z[0]-(d1+d+d2):\n",
    "        if Z[i]==d1 or Z[i]==d1+d:\n",
    "            e_dep = energy_deposit()\n",
    "            \n",
    "        \n",
    "        #Computation of the coordinates of the velocity\n",
    "        Vz.append(Vz[i])\n",
    "        Vy.append(Vy[i])\n",
    "        \n",
    "        #Computation of the coordinates of the positions\n",
    "        Z.append(Z[i]+Vz[i]*dt)\n",
    "        Y.append(Y[i]+Vy[i]*dt)\n",
    "        \n",
    "        i=i+1\n",
    "        \n",
    "    return (Z,Y,Vz,Vy,i)"
   ]
  },
  {
   "cell_type": "code",
   "execution_count": 26,
   "metadata": {},
   "outputs": [],
   "source": [
    "def Kinematic_B_Field(z,y,pz,py,m):\n",
    "    \"Arguments: (z,y), the position at the entrance of the magnetic zone;\" \n",
    "    \"(pz,py), the momenta at the entrance of the magnetic zone; m, the mass of the particle.\"\n",
    "    \"Return: lists of the positions and the velocities of the particle at each instant; 'i' the last used index\"\n",
    "    \n",
    "    dt=0.00001 #Time step\n",
    "    \n",
    "    Z,Y,Vz,Vy=[],[],[],[] #Lists of positions and velocities\n",
    "    \n",
    "    v=0 #Velocity\n",
    "    g=0 #Inverse Lorentz coefficient\n",
    "    \n",
    "    #Initial velocities\n",
    "    vz=pz/m\n",
    "    vy=py/m\n",
    "    \n",
    "    #Implementation of the initial conditions:\n",
    "    Z.append(z)\n",
    "    Y.append(y)\n",
    "    Vz.append(vz)\n",
    "    Vy.append(vy)\n",
    "    \n",
    "    i=0 #Index\n",
    "    \n",
    "    v0=np.sqrt((Vz[0]**2+Vy[0]**2))\n",
    "    \n",
    "    while Z[i]>Z[0]-L: #While the particle is inside the magnetic zone\n",
    "        #Computation of v and g\n",
    "        v=np.sqrt((Vz[i]**2+Vy[i]**2))\n",
    "        g=np.sqrt(1-(v/c)**2)\n",
    "        \n",
    "        #Computation of the velocities\n",
    "        Vz.append(-v*np.cos(q*B*g*i*dt/m))\n",
    "        Vy.append(-v*np.sin(q*B*g*i*dt/m))\n",
    "        \n",
    "        #Computation of the positions\n",
    "        Z.append(-v*m/(g*q*B)*np.sin(q*B*g*i*dt/m)+Z[0])\n",
    "        Y.append(-v*m/(g*q*B)*(1-np.cos(q*B*g*i*dt/m))+Y[0])\n",
    "        \n",
    "        i=i+1\n",
    "        \n",
    "    return (Z,Y,Vz,Vy,i)"
   ]
  },
  {
   "cell_type": "code",
   "execution_count": 27,
   "metadata": {},
   "outputs": [],
   "source": [
    "def plot_Kinematic_B_Field(z,y,vz,vy,m):\n",
    "    Z,Y,Vz,Vy=[],[],[],[]\n",
    "    j=0\n",
    "    \n",
    "    Z,Y,Vz,Vy,j=Kinematic_B_Field(z,y,vz,vy,m)\n",
    "    plt.plot(Z,Y)\n",
    "    plt.show"
   ]
  },
  {
   "cell_type": "code",
   "execution_count": 28,
   "metadata": {},
   "outputs": [],
   "source": [
    "def Kinematic_Third_Zone(z,y,pz,py,m):\n",
    "    \"Arguments: (z,y), the position at the entrance of the third zone (position after the B-field); \"\n",
    "    \"(pz,py) the momenta at the entrance of the third zone; m, the mass of the particle.\"\n",
    "    \"Return: lists of the positions and the velocities of the particle at each instant; 'i' the last used index; 'k' the index for which the particle is at the third sensor.\"\n",
    "    \n",
    "    dt=0.00001 #Time step\n",
    "    \n",
    "    Z,Y,Vz,Vy=[],[],[],[] #Lists of positions and velocities\n",
    "    \n",
    "    v=0 #Velocity\n",
    "    g=0 #Inverse Lorentz coefficient\n",
    "    \n",
    "    #Initial velocities\n",
    "    vz=pz/m\n",
    "    vy=py/m\n",
    "    \n",
    "    #Implementation of the initial conditions:\n",
    "    Z.append(z)\n",
    "    Y.append(y)\n",
    "    Vz.append(vz)\n",
    "    Vy.append(vy)\n",
    "    \n",
    "    k=0 #We will save the index at the corresponding to the third sensor\n",
    "    i=0\n",
    "    eps=0.001\n",
    "    \n",
    "    while Z[i]>0:\n",
    "        #Computation of the coordinates of the velocity\n",
    "        Vz.append(Vz[0])\n",
    "        Vy.append(Vy[0])\n",
    "        \n",
    "        #Computation of the coordinates of the position\n",
    "        Z.append(Z[i]+Vz[i]*dt)\n",
    "        Y.append(Y[i]+Vy[i]*dt)\n",
    "        \n",
    "        if Z[i]==d3:\n",
    "            k=i\n",
    "        \n",
    "        i=i+1\n",
    "        \n",
    "    return (Z,Y,Vz,Vy,i,k)"
   ]
  },
  {
   "cell_type": "markdown",
   "metadata": {},
   "source": [
    "## Tracker"
   ]
  },
  {
   "cell_type": "markdown",
   "metadata": {},
   "source": [
    "Now we can define the tracker for one particle, even plot the device and the trajectories:"
   ]
  },
  {
   "cell_type": "code",
   "execution_count": 29,
   "metadata": {},
   "outputs": [],
   "source": [
    "def Tracker(m):\n",
    "    \"Arguments:\"\n",
    "    \"Return: Lists of positions, velocities during the whole experiment;\"\n",
    "    \"the index at which the particle reach the 3rd sensor and the last index (4th sensor)\"\n",
    "    \n",
    "    dt=0.000001 #Time step\n",
    "    \n",
    "    Z,Y,Vz,Vy=[],[],[],[] #Lists of positions and velocities\n",
    "    \n",
    "    Z1,Y1,Vz1,Vy1=[],[],[],[] #Lists of positions and velocities in the first zone\n",
    "    \n",
    "    ZB,YB,VzB,VyB=[],[],[],[] #Lists of positions and velocities in the magnetic field\n",
    "    \n",
    "    Z3,Y3,Vz3,Vy3=[],[],[],[] #Lists of positions and velocities in the third zone\n",
    "    \n",
    "    #Initial velocities\n",
    "    v_z0=p_z0/m\n",
    "    v_y0=p_y0/m\n",
    "    \n",
    "    #Implementation of the initial conditions:\n",
    "    Z1.append(z0)\n",
    "    Y1.append(y0)\n",
    "    Vz1.append(v_z0)\n",
    "    Vy1.append(v_y0)\n",
    "    \n",
    "    i=0 #Index\n",
    "    \n",
    "    #First zone(particle gun --> beginning magnetic zone):\n",
    "    Z1,Y1,Vz1,Vy1,i=Kinematic_First_Zone(Z1[0],Y1[0],m*Vz1[0],m*Vy1[0],m)\n",
    "        \n",
    "    #Second zone(magnetic zone):\n",
    "    j=0 #Last index used in the Kinematic_B_Field function\n",
    "    ZB,YB,VzB,VyB,j=Kinematic_B_Field(Z1[i],Y1[i],m*Vz1[i],m*Vy1[i],m)\n",
    "    \n",
    "    #Third Zone(magnetic zone --> end, when y=0)\n",
    "    k=0\n",
    "    l=0\n",
    "    Z3,Y3,Vz3,Vy3,l,k=Kinematic_Third_Zone(ZB[j],YB[j],m*VzB[j],m*VyB[j],m)\n",
    "    \n",
    "    #Concatenation:\n",
    "    Z=Z1+ZB+Z3\n",
    "    Y=Y1+YB+Y3\n",
    "    Vz=Vz1+VzB+Vz3\n",
    "    Vy=Vy1+VyB+Vy3\n",
    "    \n",
    "    k=k+j+i\n",
    "    i=i+j+l #The last used index\n",
    "    \n",
    "    return (Z,Y,Vz,Vy,k,i)"
   ]
  },
  {
   "cell_type": "code",
   "execution_count": 30,
   "metadata": {},
   "outputs": [],
   "source": [
    "def plot_Kinematic(m):\n",
    "    Z,Y,Vz,Vy=[],[],[],[]\n",
    "    k,j=0,0\n",
    "    \n",
    "    Z,Y,Vz,Vy,k,j=Tracker(m)\n",
    "    plt.plot(Z,Y)\n",
    "    plt.xlabel('z in m')\n",
    "    plt.ylabel('y in m')\n",
    "    plt.title('Trajectory of the particle in the system')\n",
    "    plt.show"
   ]
  },
  {
   "cell_type": "markdown",
   "metadata": {},
   "source": [
    "## Momentum Spectra and mass observation"
   ]
  },
  {
   "cell_type": "markdown",
   "metadata": {},
   "source": [
    "We will now construct the actual simulation, consisting of a particle launch at a range of momenta, with each of them following a Gaussian distribution."
   ]
  },
  {
   "cell_type": "code",
   "execution_count": 43,
   "metadata": {},
   "outputs": [],
   "source": [
    "def Multiple_Reconstruction(m,N):\n",
    "    \"Arguments:\"\n",
    "    \"Return: Lists of momenta and reconstructed momenta\"\n",
    "    \n",
    "    dt=0.000001 #Time step\n",
    "    \n",
    "    n=0 #Power of ten\n",
    "    \n",
    "    if m//1!=0:\n",
    "        n=0\n",
    "    else:\n",
    "        n=1\n",
    "        while m//10**-n==0:\n",
    "            n=n+1\n",
    "        \n",
    "    P=[] #List of the momenta\n",
    "    Pr=[] #List of the reconstructed momenta\n",
    "    \n",
    "    for i in range(1,N):\n",
    "        Z,Y,Vz,Vy=[],[],[],[] #Lists of positions and velocities\n",
    "    \n",
    "        Z1,Y1,Vz1,Vy1=[],[],[],[] #Lists of positions and velocities in the first zone\n",
    "\n",
    "        ZB,YB,VzB,VyB=[],[],[],[] #Lists of positions and velocities in the magnetic field\n",
    "\n",
    "        Z3,Y3,Vz3,Vy3=[],[],[],[] #Lists of positions and velocities in the third zone\n",
    "    \n",
    "        P.append(-10/N*i*10**-n)\n",
    "        p_zg=gauss(P[i-1],sigma)\n",
    "    \n",
    "        #Initial velocities\n",
    "        v_z0=p_zg/m\n",
    "        v_y0=p_y0/m\n",
    "\n",
    "        #Implementation of the initial conditions:\n",
    "        Z1.append(z0)\n",
    "        Y1.append(y0)\n",
    "        Vz1.append(v_z0)\n",
    "        Vy1.append(v_y0)\n",
    "\n",
    "        i=0 #Index\n",
    "\n",
    "        #First zone(particle gun --> beginning magnetic zone):\n",
    "        Z1,Y1,Vz1,Vy1,i=Kinematic_First_Zone(Z1[0],Y1[0],m*Vz1[0],m*Vy1[0],m)\n",
    "\n",
    "        #Second zone(magnetic zone):\n",
    "        j=0 #Last index used in the Kinematic_B_Field function\n",
    "        ZB,YB,VzB,VyB,j=Kinematic_B_Field(Z1[i],Y1[i],m*Vz1[i],m*Vy1[i],m)\n",
    "\n",
    "        #Third Zone(magnetic zone --> end, when y=0)\n",
    "        k=0\n",
    "        l=0\n",
    "        Z3,Y3,Vz3,Vy3,l,k=Kinematic_Third_Zone(ZB[j],YB[j],m*VzB[j],m*VyB[j],m)\n",
    "\n",
    "        #Concatenation:\n",
    "        Z=Z1+ZB+Z3\n",
    "        Y=Y1+YB+Y3\n",
    "        Vz=Vz1+VzB+Vz3\n",
    "        Vy=Vy1+VyB+Vy3\n",
    "\n",
    "        k=k+j+i\n",
    "        i=i+j+l #The last used index\n",
    "        \n",
    "        #Reconstruction:\n",
    "        alpha=0\n",
    "        pr=0\n",
    "\n",
    "        #Computation\n",
    "        alpha=np.arctan((Y[len(Y)-1]-Y[k])/(Z[len(Z)-1]-Z[k]))\n",
    "        pr=q*np.abs(B)*L/np.sin(alpha)\n",
    "        \n",
    "        Pr.append(pr)\n",
    "    \n",
    "    return (P,Pr,n)"
   ]
  },
  {
   "cell_type": "markdown",
   "metadata": {},
   "source": [
    "There we will compute the errors and plot them to analyze if we are able to read the mass from the tracker:"
   ]
  },
  {
   "cell_type": "code",
   "execution_count": 44,
   "metadata": {},
   "outputs": [],
   "source": [
    "def Multiple_verification(m,N):\n",
    "    \"Arguments:m, the mass of the particle; pt, the initial momentum\"\n",
    "    \"Return: the error on the reconstruction\"\n",
    "    \n",
    "    P,Pr=[],[]\n",
    "    Eps=[] #List of errors\n",
    "    n=0\n",
    "    \n",
    "    P,Pr,n=Multiple_Reconstruction(m,N)\n",
    "    \n",
    "    for i in range(0,len(P)):\n",
    "        Eps.append((np.abs(np.abs(P[i])-Pr[i])/np.abs(P[i])*100))\n",
    "    \n",
    "    return(P,Eps,n)"
   ]
  },
  {
   "cell_type": "code",
   "execution_count": 45,
   "metadata": {},
   "outputs": [],
   "source": [
    "def plot_error(m,N):\n",
    "    P,Eps=[],[]\n",
    "    P_a,Eps_i=[],[]\n",
    "    n=0\n",
    "    \n",
    "    P,Eps,n=Multiple_verification(m,N)\n",
    "    \n",
    "    for i in range(0,len(P)):\n",
    "        P_a.append(np.abs(P[i])*10**-n)\n",
    "        Eps_i.append(1/Eps[i])\n",
    "    \n",
    "    plt.scatter(P_a,Eps_i)\n",
    "    plt.xlabel('Initial Momenta in GeV/c')\n",
    "    plt.ylabel('Inverse of the Error after reconstruction')\n",
    "    plt.show"
   ]
  },
  {
   "cell_type": "code",
   "execution_count": 46,
   "metadata": {},
   "outputs": [
    {
     "data": {
      "image/png": "[encoded data removed]",
      "text/plain": [
       "<Figure size 432x288 with 1 Axes>"
      ]
     },
     "metadata": {
      "needs_background": "light"
     },
     "output_type": "display_data"
    }
   ],
   "source": [
    "plot_error(m_p,100)"
   ]
  },
  {
   "cell_type": "code",
   "execution_count": null,
   "metadata": {},
   "outputs": [],
   "source": []
  },
  {
   "cell_type": "code",
   "execution_count": null,
   "metadata": {},
   "outputs": [],
   "source": []
  }
 ],
 "metadata": {
  "kernelspec": {
   "display_name": "Python 3",
   "language": "python",
   "name": "python3"
  },
  "language_info": {
   "codemirror_mode": {
    "name": "ipython",
    "version": 3
   },
   "file_extension": ".py",
   "mimetype": "text/x-python",
   "name": "python",
   "nbconvert_exporter": "python",
   "pygments_lexer": "ipython3",
   "version": "3.8.10"
  }
 },
 "nbformat": 4,
 "nbformat_minor": 4
}
