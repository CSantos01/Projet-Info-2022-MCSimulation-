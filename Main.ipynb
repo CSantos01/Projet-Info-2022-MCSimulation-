{
 "cells": [
  {
   "cell_type": "code",
   "execution_count": 7,
   "metadata": {},
   "outputs": [],
   "source": [
    "import matplotlib.pyplot as plt\n",
    "import numpy as np"
   ]
  },
  {
   "cell_type": "markdown",
   "metadata": {},
   "source": [
    "In the following, we work in a $(z,y)$ axis system, as in figure 5.1."
   ]
  },
  {
   "cell_type": "code",
   "execution_count": 50,
   "metadata": {},
   "outputs": [],
   "source": [
    "#Constants:\n",
    "\n",
    "c=3*10**8 #Speed of light in m.s^{-1}\n",
    "me=5.11*10**-4 #Mass of the electron in GeV/c²\n",
    "\n",
    "#Parameters:\n",
    "\n",
    "q=0.3 #for a particle with a charge 1.6*10**-19 C\n",
    "e=1.6*10**-19 #Elementary charge\n",
    "B=0.5 #Magnetic field in T\n",
    "L=0.01 #length of the magnetic zone, in m\n",
    "d=0.005 #length of the dectectors\n",
    "\n",
    "\n",
    "d1=0.0125 #distance between the particle gun and the first sensor\n",
    "d2=0.0075 #distance bewteen the second sensor and the magnetic zone\n",
    "d3=0.0075 #distance between the magnetic zone and the third sensor"
   ]
  },
  {
   "cell_type": "markdown",
   "metadata": {},
   "source": [
    "Let's define the system such that the particle come from the right to left, as in the figure."
   ]
  },
  {
   "cell_type": "code",
   "execution_count": 51,
   "metadata": {},
   "outputs": [],
   "source": [
    "#Initial position:\n",
    "\n",
    "z0=0.05\n",
    "y0=0.005\n",
    "\n",
    "#Initial momentum in GeV/c:\n",
    "\n",
    "p_z0=-0.002\n",
    "p_y0=0\n",
    "\n",
    "#Initial velocities in c:\n",
    "\n",
    "v_z0=p_z0/me\n",
    "v_y0=p_y0/me"
   ]
  },
  {
   "cell_type": "markdown",
   "metadata": {},
   "source": [
    "Now we need to introduce the kinematics of the particle in each of the three zone: before B-field (first zone), inside B-field, after B-field."
   ]
  },
  {
   "cell_type": "code",
   "execution_count": 52,
   "metadata": {},
   "outputs": [],
   "source": [
    "def Kinematic_First_Zone(z,y,vz,vy):\n",
    "    \"Arguments: (z,y), the position at the entrance of the first zone (position of the particle gun); \"\n",
    "    \"(vz,vy) the velocities at the entrance of the first zone.\"\n",
    "    \"Return: lists of the positions and the velocities of the particle at each instant; 'i' the last used index.\"\n",
    "    \n",
    "    dt=0.0000001 #Time step\n",
    "    \n",
    "    Z,Y,Vz,Vy=[],[],[],[] #Lists of positions and velocities\n",
    "    \n",
    "    #Implementation of the initial conditions:\n",
    "    Z.append(z)\n",
    "    Y.append(y)\n",
    "    Vz.append(vz)\n",
    "    Vy.append(vy)\n",
    "    \n",
    "    i=0\n",
    "    \n",
    "    while Z[i]>Z[0]-(d1+d+d2):\n",
    "        #Computation of the coordinates of the velocity\n",
    "        Vz.append(Vz[0])\n",
    "        Vy.append(Vy[0])\n",
    "        \n",
    "        #Computation of the coordinates of the positions\n",
    "        Z.append(Z[i]+Vz[i]*dt)\n",
    "        Y.append(Y[i]+Vy[i]*dt)\n",
    "        \n",
    "        i=i+1\n",
    "        \n",
    "    return (Z,Y,Vz,Vy,i)"
   ]
  },
  {
   "cell_type": "code",
   "execution_count": 56,
   "metadata": {},
   "outputs": [],
   "source": [
    "def Kinematic_B_Field(z,y,vz,vy):\n",
    "    \"Arguments: (z,y), the position at the entrance of the magnetic zone\"\n",
    "    \"Return: lists of the positions and the velocities of the particle at each instant; 'i' the last used index\"\n",
    "    \n",
    "    dt=0.00001 #Time step\n",
    "    \n",
    "    Z,Y,Vz,Vy=[],[],[],[] #Lists of positions and velocities\n",
    "    \n",
    "    v=0 #Velocity\n",
    "    g=0 #Inverse Lorentz coefficient\n",
    "    \n",
    "    #Implementation of the initial conditions:\n",
    "    Z.append(z)\n",
    "    Y.append(y)\n",
    "    Vz.append(vz)\n",
    "    Vy.append(vy)\n",
    "    \n",
    "    i=0 #Index\n",
    "    \n",
    "    v0=np.sqrt((Vz[0]**2+Vy[0]**2))\n",
    "    \n",
    "    while Z[i]>Z[0]-L: #While the particle is inside the magnetic zone\n",
    "        #Computation of v and g\n",
    "        v=np.sqrt((Vz[i]**2+Vy[i]**2))\n",
    "        g=np.sqrt(1-(v/c)**2)\n",
    "        \n",
    "        #Computation of the velocities\n",
    "        Vz.append(v*np.cos(q*B*g*i*dt/me))\n",
    "        Vy.append(-v*np.sin(q*B*g*i*dt/me))\n",
    "        \n",
    "        #Computation of the positions\n",
    "        Z.append(v*me/(g*q*B)*np.sin(q*B*g*i*dt/me)+Z[0])\n",
    "        Y.append(v*me/(g*q*B)*(1-np.cos(q*B*g*i*dt/me))+Y[0])\n",
    "        \n",
    "        i=i+1\n",
    "        \n",
    "    return (Z,Y,Vz,Vy,i)"
   ]
  },
  {
   "cell_type": "code",
   "execution_count": 57,
   "metadata": {},
   "outputs": [],
   "source": [
    "def plot_Kinematic_B_Field(z,y,vz,vy):\n",
    "    Z,Y,Vz,Vy=[],[],[],[]\n",
    "    j=0\n",
    "    \n",
    "    Z,Y,Vz,Vy,j=Kinematic_B_Field(z,y,vz,vy)\n",
    "    plt.plot(Z,Y)\n",
    "    plt.show"
   ]
  },
  {
   "cell_type": "code",
   "execution_count": 58,
   "metadata": {},
   "outputs": [
    {
     "data": {
      "image/png": "[encoded data removed]",
      "text/plain": [
       "<Figure size 432x288 with 1 Axes>"
      ]
     },
     "metadata": {
      "needs_background": "light"
     },
     "output_type": "display_data"
    }
   ],
   "source": [
    "plot_Kinematic_B_Field(z0,y0,v_z0,v_y0)"
   ]
  },
  {
   "cell_type": "code",
   "execution_count": 42,
   "metadata": {},
   "outputs": [],
   "source": [
    "def Kinematic_Third_Zone(z,y,vz,vy):\n",
    "    \"Arguments: (z,y), the position at the entrance of the third zone (position after the B-field); \"\n",
    "    \"(vz,vy) the velocities at the entrance of the third zone.\"\n",
    "    \"Return: lists of the positions and the velocities of the particle at each instant; 'i' the last used index; 'k' the index for which the particle is at the third sensor.\"\n",
    "    \n",
    "    dt=0.0000001 #Time step\n",
    "    \n",
    "    Z,Y,Vz,Vy=[],[],[],[] #Lists of positions and velocities\n",
    "    \n",
    "    v=0 #Velocity\n",
    "    g=0 #Inverse Lorentz coefficient\n",
    "    \n",
    "    #Implementation of the initial conditions:\n",
    "    Z.append(z)\n",
    "    Y.append(y)\n",
    "    Vz.append(vz)\n",
    "    Vy.append(vy)\n",
    "    \n",
    "    k=0 #We will save the index at the corresponding to the third sensor\n",
    "    i=0\n",
    "    \n",
    "    while Z[i]>0:\n",
    "        #Computation of the coordinates of the velocity\n",
    "        Vz.append(Vz[0])\n",
    "        Vy.append(Vy[0])\n",
    "        \n",
    "        #Computation of the coordinates of the position\n",
    "        Z.append(Z[i]+Vz[i]*dt)\n",
    "        Y.append(Y[i]+Vy[i]*dt)\n",
    "        \n",
    "        if Z[i]==d3:\n",
    "            k=i\n",
    "        \n",
    "        i=i+1\n",
    "        \n",
    "    return (Z,Y,Vz,Vy,i,k)"
   ]
  },
  {
   "cell_type": "markdown",
   "metadata": {},
   "source": [
    "Now we can define the tracker, the main function:"
   ]
  },
  {
   "cell_type": "code",
   "execution_count": 43,
   "metadata": {},
   "outputs": [],
   "source": [
    "def Tracker():\n",
    "    \"Arguments:\"\n",
    "    \"Return: Lists of positions, velocities during the whole experiment; the index at which the particle reach the 3rd sensor and the last index (4th sensor)\"\n",
    "    \n",
    "    dt=0.000001 #Time step\n",
    "    \n",
    "    Z,Y,Vz,Vy=[],[],[],[] #Lists of positions and velocities\n",
    "    \n",
    "    Z1,Y1,Vz1,Vy1=[],[],[],[] #Lists of positions and velocities in the first zone\n",
    "    \n",
    "    ZB,YB,VzB,VyB=[],[],[],[] #Lists of positions and velocities in the magnetic field\n",
    "    \n",
    "    Z3,Y3,Vz3,Vy3=[],[],[],[] #Lists of positions and velocities in the third zone\n",
    "    \n",
    "    #Implementation of the initial conditions:\n",
    "    Z1.append(z0)\n",
    "    Y1.append(y0)\n",
    "    Vz1.append(v_z0)\n",
    "    Vy1.append(v_y0)\n",
    "    \n",
    "    i=0 #Index\n",
    "    \n",
    "    #First zone(particle gun --> beginning magnetic zone):\n",
    "    Z1,Y1,Vz1,Vy1,i=Kinematic_First_Zone(Z1[0],Y1[0],Vz1[0],Vy1[0])\n",
    "        \n",
    "    #Second zone(magnetic zone):\n",
    "    j=0 #Last index used in the Kinematic_B_Field function\n",
    "    ZB,YB,VzB,VyB,j=Kinematic_B_Field(Z1[i],Y1[i],Vz1[i],Vy1[i])\n",
    "    \n",
    "    #Third Zone(magnetic zone --> end, when y=0)\n",
    "    k=0\n",
    "    l=0\n",
    "    Z3,Y3,Vz3,Vy3,l,k=Kinematic_Third_Zone(ZB[j],YB[j],VzB[j],VyB[j])\n",
    "    \n",
    "    #Concatenation:\n",
    "    Z=Z1+ZB+Z3\n",
    "    Y=Y1+YB+Y3\n",
    "    Vz=Vz1+VzB+Vz3\n",
    "    Vy=Vy1+VyB+Vy3\n",
    "    \n",
    "    k=k+j+i\n",
    "    i=i+j+l #The last used index\n",
    "    \n",
    "    return (Z,Y,Vz,Vy,k,i)"
   ]
  },
  {
   "cell_type": "code",
   "execution_count": 44,
   "metadata": {},
   "outputs": [],
   "source": [
    "def plot_Kinematic():\n",
    "    Z,Y,Vz,Vy=[],[],[],[]\n",
    "    k,j=0,0\n",
    "    \n",
    "    Z,Y,Vz,Vy,k,j=Tracker()\n",
    "    plt.plot(Z,Y)\n",
    "    plt.xlabel('z in mm')\n",
    "    plt.ylabel('y in mm')\n",
    "    plt.title('Trajectory of the particle in the system')\n",
    "    plt.show"
   ]
  },
  {
   "cell_type": "code",
   "execution_count": 45,
   "metadata": {},
   "outputs": [
    {
     "data": {
      "image/png": "[encoded data removed]",
      "text/plain": [
       "<Figure size 432x288 with 1 Axes>"
      ]
     },
     "metadata": {
      "needs_background": "light"
     },
     "output_type": "display_data"
    }
   ],
   "source": [
    "plot_Kinematic()"
   ]
  },
  {
   "cell_type": "markdown",
   "metadata": {},
   "source": [
    "To test the tracker, we can reconstruct the momentum of the particle and compare it to the initial momentum:"
   ]
  },
  {
   "cell_type": "code",
   "execution_count": 46,
   "metadata": {},
   "outputs": [],
   "source": [
    "def reconstruction():\n",
    "    \"Arguments:\"\n",
    "    \"Return: the momentum of the particle\"\n",
    "    \n",
    "    Z,Y,Vz,Vy=[],[],[],[]\n",
    "    k,j=0,0\n",
    "    \n",
    "    Z,Y,Vz,Vy,k,j=Tracker()\n",
    "    \n",
    "    alpha=0\n",
    "    p=0\n",
    "    \n",
    "    #Computation\n",
    "    alpha=np.arctan((Y[len(Y)-1]-Y[k])/(Z[len(Z)-1]-Z[k]))\n",
    "    p=q*np.abs(B)*L/np.sin(alpha)\n",
    "    \n",
    "    return (p)"
   ]
  },
  {
   "cell_type": "code",
   "execution_count": 47,
   "metadata": {},
   "outputs": [
    {
     "data": {
      "text/plain": [
       "-0.0019985765861507453"
      ]
     },
     "execution_count": 47,
     "metadata": {},
     "output_type": "execute_result"
    }
   ],
   "source": [
    "reconstruction()"
   ]
  },
  {
   "cell_type": "code",
   "execution_count": 48,
   "metadata": {},
   "outputs": [],
   "source": [
    "def verification():\n",
    "    \"Arguments:\"\n",
    "    \"Return: the error on the reconstruction\"\n",
    "    \n",
    "    Z,Y,Vz,Vy=[],[],[],[]\n",
    "    k,j=0,0\n",
    "    p,eps=0,0\n",
    "    \n",
    "    Z,Y,Vz,Vy,k,j=Tracker()\n",
    "    \n",
    "    v=np.sqrt(Vz[j]**2+Vy[j]**2)\n",
    "    gamma=1/np.sqrt(1-(v/c)**2)\n",
    "    \n",
    "    pt=np.sqrt(p_z0**2+p_y0**2)\n",
    "    p=reconstruction()\n",
    "    eps=(np.abs(pt-p)/pt)*100\n",
    "    \n",
    "    return(pt,eps)"
   ]
  },
  {
   "cell_type": "code",
   "execution_count": 49,
   "metadata": {},
   "outputs": [
    {
     "data": {
      "text/plain": [
       "(0.002, 199.92882930753726)"
      ]
     },
     "execution_count": 49,
     "metadata": {},
     "output_type": "execute_result"
    }
   ],
   "source": [
    "verification()"
   ]
  },
  {
   "cell_type": "code",
   "execution_count": null,
   "metadata": {},
   "outputs": [],
   "source": []
  },
  {
   "cell_type": "code",
   "execution_count": null,
   "metadata": {},
   "outputs": [],
   "source": []
  },
  {
   "cell_type": "code",
   "execution_count": null,
   "metadata": {},
   "outputs": [],
   "source": []
  }
 ],
 "metadata": {
  "kernelspec": {
   "display_name": "Python 3",
   "language": "python",
   "name": "python3"
  },
  "language_info": {
   "codemirror_mode": {
    "name": "ipython",
    "version": 3
   },
   "file_extension": ".py",
   "mimetype": "text/x-python",
   "name": "python",
   "nbconvert_exporter": "python",
   "pygments_lexer": "ipython3",
   "version": "3.8.10"
  }
 },
 "nbformat": 4,
 "nbformat_minor": 4
}
